{
 "cells": [
  {
   "cell_type": "code",
   "execution_count": 27,
   "id": "c995feed",
   "metadata": {},
   "outputs": [],
   "source": [
    "import pandas as pd"
   ]
  },
  {
   "cell_type": "code",
   "execution_count": 28,
   "id": "e89216d0",
   "metadata": {},
   "outputs": [
    {
     "name": "stdout",
     "output_type": "stream",
     "text": [
      "  student  addmission\n",
      "0     abc        2023\n",
      "1     def        2022\n",
      "2     frt        2021\n"
     ]
    }
   ],
   "source": [
    "dataset={'student' : ['abc','def','frt'],\n",
    "        'addmission' : [2023,2022,2021]}\n",
    "demo=pd.DataFrame(dataset)\n",
    "print(demo)"
   ]
  },
  {
   "cell_type": "code",
   "execution_count": 29,
   "id": "d954df0e",
   "metadata": {},
   "outputs": [
    {
     "name": "stdout",
     "output_type": "stream",
     "text": [
      "1.4.2\n"
     ]
    }
   ],
   "source": [
    "\n",
    "print(pd.__version__)"
   ]
  },
  {
   "cell_type": "code",
   "execution_count": 30,
   "id": "b7134e51",
   "metadata": {},
   "outputs": [
    {
     "name": "stdout",
     "output_type": "stream",
     "text": [
      "0    20\n",
      "1    30\n",
      "2    40\n",
      "3    50\n",
      "dtype: int64\n"
     ]
    }
   ],
   "source": [
    "a=[20,30,40,50]\n",
    "demo1=pd.Series(a)\n",
    "print(demo1)"
   ]
  },
  {
   "cell_type": "code",
   "execution_count": 31,
   "id": "eac6fa69",
   "metadata": {},
   "outputs": [
    {
     "name": "stdout",
     "output_type": "stream",
     "text": [
      "M1    20\n",
      "M2    30\n",
      "M3    40\n",
      "M4    50\n",
      "dtype: int64\n"
     ]
    }
   ],
   "source": [
    "demo2=pd.Series(a,index=[\"M1\",\"M2\",\"M3\",\"M4\"])\n",
    "print(demo2)"
   ]
  },
  {
   "cell_type": "code",
   "execution_count": 32,
   "id": "321735c3",
   "metadata": {},
   "outputs": [
    {
     "name": "stdout",
     "output_type": "stream",
     "text": [
      "40\n"
     ]
    }
   ],
   "source": [
    "print(demo2[\"M3\"])"
   ]
  },
  {
   "cell_type": "code",
   "execution_count": 33,
   "id": "a2f8806e",
   "metadata": {},
   "outputs": [
    {
     "name": "stdout",
     "output_type": "stream",
     "text": [
      "abc    440\n",
      "def    220\n",
      "ssd    300\n",
      "dtype: int64\n",
      "440\n"
     ]
    }
   ],
   "source": [
    "marks={\"abc\":440,\"def\":220,\"ssd\":300}\n",
    "demo2=pd.Series(marks)\n",
    "print(demo2)\n",
    "print(demo2[\"abc\"])"
   ]
  },
  {
   "cell_type": "code",
   "execution_count": 34,
   "id": "b1864c33",
   "metadata": {},
   "outputs": [
    {
     "name": "stdout",
     "output_type": "stream",
     "text": [
      "  student  addmission\n",
      "0     abc        2023\n",
      "1     def        2022\n",
      "2     frt        2021\n"
     ]
    }
   ],
   "source": [
    "demo3=pd.Series(marks,index=[\"abc\",\"ssd\"])\n",
    "print(demo)"
   ]
  },
  {
   "cell_type": "code",
   "execution_count": 35,
   "id": "0a6a6ce6",
   "metadata": {},
   "outputs": [
    {
     "name": "stdout",
     "output_type": "stream",
     "text": [
      "   id    name department  points\n",
      "0   1  dhruvi         HR     200\n",
      "1   2   palak         IT     300\n",
      "2   3     ved     Design     100\n",
      "3   4  Dhruti         HR     200\n",
      "4   5  Bhavin  Marketing     300\n",
      "5   6  dhruvi         HR     200\n",
      "6   7   palak         IT     300\n"
     ]
    }
   ],
   "source": [
    "pd.options.display.max_rows=10\n",
    "stud=pd.read_csv('datademo.csv')\n",
    "print(stud)"
   ]
  },
  {
   "cell_type": "code",
   "execution_count": 36,
   "id": "dbdbdc11",
   "metadata": {},
   "outputs": [
    {
     "name": "stdout",
     "output_type": "stream",
     "text": [
      "   id    name department  points\n",
      "2   3     ved     Design     100\n",
      "3   4  Dhruti         HR     200\n",
      "4   5  Bhavin  Marketing     300\n",
      "5   6  dhruvi         HR     200\n",
      "6   7   palak         IT     300\n"
     ]
    }
   ],
   "source": [
    "print(stud_Marks.tail())"
   ]
  },
  {
   "cell_type": "code",
   "execution_count": 37,
   "id": "df081456",
   "metadata": {},
   "outputs": [
    {
     "name": "stdout",
     "output_type": "stream",
     "text": [
      "   id     name  salary\n",
      "0   1    yatri   10000\n",
      "1   2    bansi   20000\n",
      "2   3       om   30000\n",
      "3   4  devansh   40000\n",
      "4   5     hiya   50000\n"
     ]
    }
   ],
   "source": [
    "pd.options.display.max_rows=10\n",
    "new_stud=pd.read_csv('datademo2.csv')\n",
    "print(new_stud)"
   ]
  },
  {
   "cell_type": "code",
   "execution_count": 38,
   "id": "d18daa5a",
   "metadata": {},
   "outputs": [
    {
     "name": "stdout",
     "output_type": "stream",
     "text": [
      "228.57142857142858\n"
     ]
    }
   ],
   "source": [
    "mean = stud[\"points\"].mean()\n",
    "print(mean)"
   ]
  },
  {
   "cell_type": "code",
   "execution_count": 39,
   "id": "9b857509",
   "metadata": {},
   "outputs": [
    {
     "name": "stdout",
     "output_type": "stream",
     "text": [
      "median :228.57142857142858\n"
     ]
    }
   ],
   "source": [
    "median = stud[\"points\"].mean()\n",
    "print(f\"median :{median}\")"
   ]
  },
  {
   "cell_type": "code",
   "execution_count": 40,
   "id": "6f9dbea4",
   "metadata": {},
   "outputs": [
    {
     "name": "stdout",
     "output_type": "stream",
     "text": [
      "mode : 0    200\n",
      "1    300\n",
      "Name: points, dtype: int64\n"
     ]
    }
   ],
   "source": [
    "mode = stud[\"points\"].mode()\n",
    "print(f\"mode : {mode}\")"
   ]
  },
  {
   "cell_type": "code",
   "execution_count": 41,
   "id": "4c5729b5",
   "metadata": {},
   "outputs": [
    {
     "data": {
      "text/plain": [
       "Index(['id', 'name', 'department', 'points'], dtype='object')"
      ]
     },
     "execution_count": 41,
     "metadata": {},
     "output_type": "execute_result"
    }
   ],
   "source": [
    "stud.columns"
   ]
  },
  {
   "cell_type": "code",
   "execution_count": 43,
   "id": "afe76e44",
   "metadata": {},
   "outputs": [
    {
     "name": "stdout",
     "output_type": "stream",
     "text": [
      "   id    name department  points\n",
      "0   1  dhruvi         HR     200\n",
      "1   2   palak         IT     300\n",
      "2   3     ved     Design     100\n"
     ]
    }
   ],
   "source": [
    "print(stud.loc[0:2])"
   ]
  },
  {
   "cell_type": "code",
   "execution_count": 44,
   "id": "91b418a5",
   "metadata": {},
   "outputs": [
    {
     "data": {
      "text/html": [
       "<div>\n",
       "<style scoped>\n",
       "    .dataframe tbody tr th:only-of-type {\n",
       "        vertical-align: middle;\n",
       "    }\n",
       "\n",
       "    .dataframe tbody tr th {\n",
       "        vertical-align: top;\n",
       "    }\n",
       "\n",
       "    .dataframe thead th {\n",
       "        text-align: right;\n",
       "    }\n",
       "</style>\n",
       "<table border=\"1\" class=\"dataframe\">\n",
       "  <thead>\n",
       "    <tr style=\"text-align: right;\">\n",
       "      <th></th>\n",
       "      <th>id</th>\n",
       "      <th>name</th>\n",
       "      <th>department</th>\n",
       "      <th>points</th>\n",
       "    </tr>\n",
       "  </thead>\n",
       "  <tbody>\n",
       "    <tr>\n",
       "      <th>1</th>\n",
       "      <td>2</td>\n",
       "      <td>palak</td>\n",
       "      <td>IT</td>\n",
       "      <td>300</td>\n",
       "    </tr>\n",
       "    <tr>\n",
       "      <th>4</th>\n",
       "      <td>5</td>\n",
       "      <td>Bhavin</td>\n",
       "      <td>Marketing</td>\n",
       "      <td>300</td>\n",
       "    </tr>\n",
       "    <tr>\n",
       "      <th>6</th>\n",
       "      <td>7</td>\n",
       "      <td>palak</td>\n",
       "      <td>IT</td>\n",
       "      <td>300</td>\n",
       "    </tr>\n",
       "    <tr>\n",
       "      <th>0</th>\n",
       "      <td>1</td>\n",
       "      <td>dhruvi</td>\n",
       "      <td>HR</td>\n",
       "      <td>200</td>\n",
       "    </tr>\n",
       "    <tr>\n",
       "      <th>3</th>\n",
       "      <td>4</td>\n",
       "      <td>Dhruti</td>\n",
       "      <td>HR</td>\n",
       "      <td>200</td>\n",
       "    </tr>\n",
       "    <tr>\n",
       "      <th>5</th>\n",
       "      <td>6</td>\n",
       "      <td>dhruvi</td>\n",
       "      <td>HR</td>\n",
       "      <td>200</td>\n",
       "    </tr>\n",
       "    <tr>\n",
       "      <th>2</th>\n",
       "      <td>3</td>\n",
       "      <td>ved</td>\n",
       "      <td>Design</td>\n",
       "      <td>100</td>\n",
       "    </tr>\n",
       "  </tbody>\n",
       "</table>\n",
       "</div>"
      ],
      "text/plain": [
       "   id    name department  points\n",
       "1   2   palak         IT     300\n",
       "4   5  Bhavin  Marketing     300\n",
       "6   7   palak         IT     300\n",
       "0   1  dhruvi         HR     200\n",
       "3   4  Dhruti         HR     200\n",
       "5   6  dhruvi         HR     200\n",
       "2   3     ved     Design     100"
      ]
     },
     "execution_count": 44,
     "metadata": {},
     "output_type": "execute_result"
    }
   ],
   "source": [
    "stud.sort_values([\"points\"],ascending=0)"
   ]
  },
  {
   "cell_type": "code",
   "execution_count": 45,
   "id": "1c5c6ae3",
   "metadata": {},
   "outputs": [
    {
     "data": {
      "text/html": [
       "<div>\n",
       "<style scoped>\n",
       "    .dataframe tbody tr th:only-of-type {\n",
       "        vertical-align: middle;\n",
       "    }\n",
       "\n",
       "    .dataframe tbody tr th {\n",
       "        vertical-align: top;\n",
       "    }\n",
       "\n",
       "    .dataframe thead th {\n",
       "        text-align: right;\n",
       "    }\n",
       "</style>\n",
       "<table border=\"1\" class=\"dataframe\">\n",
       "  <thead>\n",
       "    <tr style=\"text-align: right;\">\n",
       "      <th></th>\n",
       "      <th>id</th>\n",
       "      <th>name</th>\n",
       "      <th>department</th>\n",
       "      <th>points</th>\n",
       "    </tr>\n",
       "  </thead>\n",
       "  <tbody>\n",
       "    <tr>\n",
       "      <th>2</th>\n",
       "      <td>3</td>\n",
       "      <td>ved</td>\n",
       "      <td>Design</td>\n",
       "      <td>100</td>\n",
       "    </tr>\n",
       "    <tr>\n",
       "      <th>0</th>\n",
       "      <td>1</td>\n",
       "      <td>dhruvi</td>\n",
       "      <td>HR</td>\n",
       "      <td>200</td>\n",
       "    </tr>\n",
       "    <tr>\n",
       "      <th>3</th>\n",
       "      <td>4</td>\n",
       "      <td>Dhruti</td>\n",
       "      <td>HR</td>\n",
       "      <td>200</td>\n",
       "    </tr>\n",
       "    <tr>\n",
       "      <th>5</th>\n",
       "      <td>6</td>\n",
       "      <td>dhruvi</td>\n",
       "      <td>HR</td>\n",
       "      <td>200</td>\n",
       "    </tr>\n",
       "    <tr>\n",
       "      <th>1</th>\n",
       "      <td>2</td>\n",
       "      <td>palak</td>\n",
       "      <td>IT</td>\n",
       "      <td>300</td>\n",
       "    </tr>\n",
       "    <tr>\n",
       "      <th>4</th>\n",
       "      <td>5</td>\n",
       "      <td>Bhavin</td>\n",
       "      <td>Marketing</td>\n",
       "      <td>300</td>\n",
       "    </tr>\n",
       "    <tr>\n",
       "      <th>6</th>\n",
       "      <td>7</td>\n",
       "      <td>palak</td>\n",
       "      <td>IT</td>\n",
       "      <td>300</td>\n",
       "    </tr>\n",
       "  </tbody>\n",
       "</table>\n",
       "</div>"
      ],
      "text/plain": [
       "   id    name department  points\n",
       "2   3     ved     Design     100\n",
       "0   1  dhruvi         HR     200\n",
       "3   4  Dhruti         HR     200\n",
       "5   6  dhruvi         HR     200\n",
       "1   2   palak         IT     300\n",
       "4   5  Bhavin  Marketing     300\n",
       "6   7   palak         IT     300"
      ]
     },
     "execution_count": 45,
     "metadata": {},
     "output_type": "execute_result"
    }
   ],
   "source": [
    "stud.sort_values([\"points\"],ascending=1)"
   ]
  },
  {
   "cell_type": "code",
   "execution_count": null,
   "id": "a0f13f81",
   "metadata": {},
   "outputs": [],
   "source": []
  }
 ],
 "metadata": {
  "kernelspec": {
   "display_name": "Python 3 (ipykernel)",
   "language": "python",
   "name": "python3"
  },
  "language_info": {
   "codemirror_mode": {
    "name": "ipython",
    "version": 3
   },
   "file_extension": ".py",
   "mimetype": "text/x-python",
   "name": "python",
   "nbconvert_exporter": "python",
   "pygments_lexer": "ipython3",
   "version": "3.9.12"
  }
 },
 "nbformat": 4,
 "nbformat_minor": 5
}
